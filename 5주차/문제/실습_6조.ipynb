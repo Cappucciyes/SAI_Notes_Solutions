{
  "nbformat": 4,
  "nbformat_minor": 0,
  "metadata": {
    "colab": {
      "provenance": []
    },
    "kernelspec": {
      "name": "python3",
      "display_name": "Python 3"
    },
    "language_info": {
      "name": "python"
    }
  },
  "cells": [
    {
      "cell_type": "code",
      "execution_count": 12,
      "metadata": {
        "colab": {
          "base_uri": "https://localhost:8080/"
        },
        "id": "ZaN-MMt3T8pv",
        "outputId": "84d01eb2-9aa2-4e65-8939-894d6024cfcb"
      },
      "outputs": [
        {
          "output_type": "stream",
          "name": "stdout",
          "text": [
            "    이름  단과대    학번\n",
            "0  김현우  소융대  23.0\n",
            "2  박민지  소융대  22.0\n",
            "3  이준희  소융대  20.0\n",
            "4  전준호  생과대  21.0\n",
            "5  최윤제  소융대   NaN\n",
            "6  박민서  자연대  22.0\n",
            "    이름  단과대    학번    나이\n",
            "0  김현우  소융대  23.0  20.0\n",
            "2  박민지  소융대  22.0  21.0\n",
            "3  이준희  소융대  20.0  23.0\n",
            "4  전준호  생과대  21.0  22.0\n",
            "5  최윤제  소융대  20.0  23.0\n",
            "6  박민서  자연대  22.0  21.0\n"
          ]
        }
      ],
      "source": [
        "import pandas as pd\n",
        "\n",
        "student_list = [{'이름' : '김현우', '단과대' : '소융대', '학번' : 23},\n",
        "                {'이름' : '박민서', '단과대' : '소융대', '학번' : 21},\n",
        "                {'이름' : '박민지', '단과대' : '소융대', '학번' : 22},\n",
        "                {'이름' : '이준희', '단과대' : '소융대', '학번' : 20},\n",
        "                {'이름' : '전준호', '단과대' : '생과대', '학번' : 21},\n",
        "                {'이름' : '최윤제', '단과대' : '소융대', '학번' : None},\n",
        "               {'이름' : '박민서', '단과대' : '자연대', '학번' : 22}]\n",
        "\n",
        "\n",
        "#각 문제별로 지시하는 사항은 항상 df에 반영(저장)되어야 합니다.\n",
        "\n",
        "\n",
        "#1번. student_list와 columns를 사용해 DataFrame을 만드세요.\n",
        "# columns = ['이름', '단과대', '학번']\n",
        "df = pd.DataFrame(student_list, columns=['이름', '단과대', '학번'])\n",
        "\n",
        "#2번. 한 명의 이름이 두 번 기입되었습니다. 중복된 이름 중 처음으로 나오는 값을 지우세요.\n",
        "df = df.drop_duplicates(['이름'], keep='last')\n",
        "print(df)\n",
        "\n",
        "#3번. 소융대 학생 중 한 명의 학번이 입력되지 않았다. 이 Nan값을 찾아 소융대에서 가장 높은 (숫자가 작은) 학번으로 바꾸세요.\n",
        "# 단, filla와 groupby를 사용해야 함\n",
        "x = df.groupby('단과대').get_group('소융대').apply(min)\n",
        "df = df.fillna(x['학번'])\n",
        "\n",
        "\n",
        "#4번. 모두 20살에 입학했다고 가정했을 때, 학번으로 나이를 구하는 함수를 작성하세요.\n",
        "f = lambda x: 20 + (23 - x)\n",
        "\n",
        "\n",
        "#5번. 4번에서 만든 함수를 이용해 각 학생의 나이를 구하고 '나이' 열을 추가해 저장하세요.\n",
        "# 단, apply를 사용해야 함\n",
        "age = df[\"학번\"].apply(f)\n",
        "df['나이'] = age\n",
        "\n",
        "\n"
      ]
    },
    {
      "cell_type": "code",
      "source": [],
      "metadata": {
        "id": "bhfYYo-QY0xM"
      },
      "execution_count": null,
      "outputs": []
    }
  ]
}